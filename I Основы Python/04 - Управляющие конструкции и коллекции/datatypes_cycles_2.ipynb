{
 "cells": [
  {
   "cell_type": "markdown",
   "metadata": {},
   "source": [
    "**Задание 1**. Дан список с визитами по городам и странам. \n",
    "Напишите код, который возвращает отфильтрованный список geo_logs, содержащий только визиты из России."
   ]
  },
  {
   "cell_type": "code",
   "execution_count": 13,
   "metadata": {},
   "outputs": [
    {
     "name": "stdout",
     "output_type": "stream",
     "text": [
      "1 визит был в славный российский город Москва\n",
      "3 визит был в славный российский город Владимир\n",
      "7 визит был в славный российский город Тула\n",
      "8 визит был в славный российский город Тула\n",
      "9 визит был в славный российский город Курск\n",
      "10 визит был в славный российский город Архангельск\n"
     ]
    }
   ],
   "source": [
    "geo_logs = [\n",
    "    {'visit1': ['Москва', 'Россия']},\n",
    "    {'visit2': ['Дели', 'Индия']},\n",
    "    {'visit3': ['Владимир', 'Россия']},\n",
    "    {'visit4': ['Лиссабон', 'Португалия']},\n",
    "    {'visit5': ['Париж', 'Франция']},\n",
    "    {'visit6': ['Лиссабон', 'Португалия']},\n",
    "    {'visit7': ['Тула', 'Россия']},\n",
    "    {'visit8': ['Тула', 'Россия']},\n",
    "    {'visit9': ['Курск', 'Россия']},\n",
    "    {'visit10': ['Архангельск', 'Россия']}\n",
    "]\n",
    "\n",
    "for log in geo_logs:\n",
    "    for vizit, city in log.items():\n",
    "        if city[1] == 'Россия':\n",
    "            print(f'{vizit[5:]} визит был в славный российский город {city[0]}')"
   ]
  },
  {
   "cell_type": "markdown",
   "metadata": {},
   "source": [
    "**Задание 2**. Выведите на экран все уникальные гео-ID из значений словаря ids. Т. е. список вида [213, 15, 54, 119, 98, 35]"
   ]
  },
  {
   "cell_type": "code",
   "execution_count": 32,
   "metadata": {},
   "outputs": [
    {
     "name": "stdout",
     "output_type": "stream",
     "text": [
      "[213, 15, 54, 119, 98, 35]\n"
     ]
    }
   ],
   "source": [
    "geo_id_list = []\n",
    "ids = {'user1': [213, 213, 213, 15, 213], \n",
    "       'user2': [54, 54, 119, 119, 119], \n",
    "       'user3': [213, 98, 98, 35]}\n",
    "\n",
    "for geo_data in ids.values():\n",
    "    for i in range(len(geo_data)):\n",
    "        if geo_data[i] not in geo_id_list:\n",
    "            geo_id_list.append(geo_data[i])\n",
    "print(geo_id_list)"
   ]
  },
  {
   "cell_type": "markdown",
   "metadata": {},
   "source": [
    "**Задание 3**. Дан список поисковых запросов. Получить распределение количества слов в них. \n",
    "Т. е. поисковых запросов из одного - слова 5%, из двух - 7%, из трех - 3% и т.д."
   ]
  },
  {
   "cell_type": "code",
   "execution_count": 106,
   "metadata": {},
   "outputs": [
    {
     "name": "stdout",
     "output_type": "stream",
     "text": [
      "Поиск запросов из 1 слов(а) - 18.2%\n",
      "Поиск запросов из 2 слов(а) - 27.3%\n",
      "Поиск запросов из 3 слов(а) - 36.4%\n",
      "Поиск запросов из 4 слов(а) - 9.1%\n",
      "Поиск запросов из 6 слов(а) - 9.1%\n"
     ]
    }
   ],
   "source": [
    "queries = [\n",
    "    'карантин',\n",
    "    'википедия',\n",
    "    'смотреть сериалы онлайн',\n",
    "    'новости спорта',\n",
    "    'афиша кино',\n",
    "    'курс доллара',\n",
    "    'сериалы этим летом',\n",
    "    'курс по питону',\n",
    "    'сериалы про спорт',\n",
    "    'игра престолов смотреть онлайн',\n",
    "    'а не спеть ли мне песню'\n",
    "]\n",
    "\n",
    "# здесь будем хранить количество слов в запросе\n",
    "count_words = ''\n",
    "# словарь: ключ - количество слов в запросе, значение - счетчик\n",
    "distribution = {}\n",
    "\n",
    "for query in queries:\n",
    "    count_words = query.count(' ') + 1\n",
    "#   если слово не встречалось,то добавляем в словарь со значением = 1, иначе ув. счетчик\n",
    "    if distribution.get(count_words) is None:\n",
    "        distribution[count_words] = 1\n",
    "    else:\n",
    "        distribution[count_words] += 1\n",
    "\n",
    "# создадим список для ключей словаря, отсортируем его\n",
    "sort_dist = list(distribution.keys())\n",
    "sort_dist.sort()\n",
    "\n",
    "for el in sort_dist:\n",
    "    print(f'Поиск запросов из {el} слов(а) - {distribution[el] * 100 / len(queries):.1f}%')\n"
   ]
  },
  {
   "cell_type": "markdown",
   "metadata": {},
   "source": [
    "**Задание 4**. Дана статистика рекламных каналов по объемам продаж. Напишите скрипт, который возвращает название канала с максимальным объемом.\n",
    "Т. е. в данном примере скрипт должен возвращать 'yandex'."
   ]
  },
  {
   "cell_type": "code",
   "execution_count": 95,
   "metadata": {},
   "outputs": [
    {
     "name": "stdout",
     "output_type": "stream",
     "text": [
      "yandex\n"
     ]
    }
   ],
   "source": [
    "stats = {'facebook': 55, 'yandex': 120, 'vk': 115, 'google': 99, 'email': 42, 'ok': 98}\n",
    "\n",
    "# создадим список значений\n",
    "sales_list = list(stats.values())\n",
    "# найдем индекс максимального значения\n",
    "index_max = sales_list.index(max(sales_list))\n",
    "\n",
    "for i, el in enumerate(stats):\n",
    "    if i == index_max:\n",
    "        print(el)\n",
    "        break"
   ]
  },
  {
   "cell_type": "markdown",
   "metadata": {},
   "source": [
    "**Задание 5**. Напишите код для преобразования произвольного списка вида ['2018-01-01', 'yandex', 'cpc', 100] (он может быть любой длины) в словарь {'2018-01-01': {'yandex': {'cpc': 100}}}"
   ]
  },
  {
   "cell_type": "code",
   "execution_count": 2,
   "metadata": {},
   "outputs": [
    {
     "name": "stdout",
     "output_type": "stream",
     "text": [
      "{'2018-01-01': {'yandex': {'cpc': 100}}}\n",
      "<class 'dict'>\n"
     ]
    }
   ],
   "source": [
    "user_list =  ['2018-01-01', 'yandex', 'cpc', 100]\n",
    "\n",
    "tmp_str = '{\\''\n",
    "str_end = ''\n",
    "\n",
    "for i, el in enumerate(user_list):\n",
    "    if i < len(user_list) - 1:\n",
    "        tmp_str = tmp_str + str(el) + '\\':{\\''\n",
    "        str_end += '}'\n",
    "    \n",
    "tmp_str = tmp_str[:-2] + str(user_list[-1]) + str_end\n",
    "\n",
    "result = {}\n",
    "result = eval(tmp_str)\n",
    "\n",
    "print(result)\n",
    "print(type(result))"
   ]
  },
  {
   "cell_type": "code",
   "execution_count": 37,
   "metadata": {},
   "outputs": [
    {
     "name": "stdout",
     "output_type": "stream",
     "text": [
      "{'2018-01-01': {'yandex': {'cpc': 100}}}\n"
     ]
    }
   ],
   "source": [
    "user_list =  ['2018-01-01', 'yandex', 'cpc', 100]\n",
    "user_dict = user_list[-1]\n",
    "\n",
    "for data in reversed(user_list[:-1]):\n",
    "    user_dict = {data: user_dict}\n",
    "    \n",
    "print(user_dict)"
   ]
  }
 ],
 "metadata": {
  "kernelspec": {
   "display_name": "Python 3",
   "language": "python",
   "name": "python3"
  },
  "language_info": {
   "codemirror_mode": {
    "name": "ipython",
    "version": 3
   },
   "file_extension": ".py",
   "mimetype": "text/x-python",
   "name": "python",
   "nbconvert_exporter": "python",
   "pygments_lexer": "ipython3",
   "version": "3.7.6"
  }
 },
 "nbformat": 4,
 "nbformat_minor": 2
}
