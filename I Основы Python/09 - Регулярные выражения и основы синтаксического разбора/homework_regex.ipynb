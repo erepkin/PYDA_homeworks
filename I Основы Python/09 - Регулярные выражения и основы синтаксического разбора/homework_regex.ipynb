{
 "cells": [
  {
   "cell_type": "raw",
   "metadata": {},
   "source": [
    "Задание 1.\n",
    "Напишите функцию, которая принимает на вход строку и проверяет является ли она валидным транспортным номером. Если да, то функция должна возвращать отдельно номер и регион.\n",
    "(формат:  буква — 3 цифры — 2 буквы, код региона. Пример: К776КК44 )"
   ]
  },
  {
   "cell_type": "code",
   "execution_count": 44,
   "metadata": {},
   "outputs": [
    {
     "data": {
      "text/plain": [
       "'44'"
      ]
     },
     "execution_count": 44,
     "metadata": {},
     "output_type": "execute_result"
    }
   ],
   "source": [
    "import re\n",
    "def is_region_by_regnum(regnum):\n",
    "    try:\n",
    "        valid_letters = ['А', 'В', 'Е', 'К', 'М', 'Н', 'О', 'Р', 'С', 'Т', 'У', 'Х']\n",
    "        valid_regions = ['01', '02', '03', '04', '05', '06', '07', '08', '09', '10',\n",
    "                         '102', '11', '113', '116', '12', '121', '122', '123', '124',\n",
    "                         '125', '126', '127', '13', '134', '136', '138', '14', '142',\n",
    "                         '147', '15', '150', '152', '154', '159', '16', '161', '163',\n",
    "                         '164', '169', '17', '173', '174', '177', '178', '18', '186',\n",
    "                         '19', '190', '193', '196', '197', '198', '199', '20', '21',\n",
    "                         '22', '23', '24', '25', '26', '27', '28', '29', '30', '31',\n",
    "                         '32', '33', '34', '35', '36', '37', '38', '39', '40', '41',\n",
    "                         '42', '43', '44', '45', '46', '47', '48', '49', '50', '51',\n",
    "                         '52', '53', '54', '55', '56', '57', '58', '59', '60', '61',\n",
    "                         '62', '63', '64', '65', '66', '67', '68', '69', '70', '702',\n",
    "                         '71', '716', '72', '73', '74', '75', '750', '76', '761',\n",
    "                         '763', '77', '777', '78', '79', '799', '80', '81', '82',\n",
    "                         '82', '83', '84', '85', '86', '87', '88', '89', '90', '91',\n",
    "                         '92', '93', '94', '95', '96', '97', '98', '99']\n",
    "        pattern = re.match(r'(\\w)(\\d{3})(\\w)(\\w)(\\d{2,3})', regnum)\n",
    "        if ((pattern.group(1) or pattern.group(3) or pattern.group(4)) not in valid_letters) or (pattern.group(5) not in valid_regions):\n",
    "            return False\n",
    "    except:\n",
    "        return False\n",
    "    return pattern.group(5)\n",
    "        \n",
    "is_region_by_regnum('К476КК44')"
   ]
  },
  {
   "cell_type": "raw",
   "metadata": {},
   "source": [
    "Задание 2.\n",
    "Постарайтесь написать (в крайнем случае найти) самый полный шаблон для проверки e-mail адресов через регулярное выражение, которая проверяет e-mail адрес на валидность. Можно руководствоваться следующими минимальными требованиями:\n",
    "• адрес должен содержать специальный символ “@”, который отделяет имя пользователя почтовой системы от доменного имени;\n",
    "• адрес не должен содержать следующие символы: “пробел”, “,”, “:”, “;”, “!”, “#”, “%”, “*”, “(”, “)”, “=”, “+”, “{”, “}”, \" \" \", \" ’ \", \" / \", \" \\ \" и “|”;\n",
    "• адрес должен состоять только из латинских символов;\n",
    "• после символа “@” должна быть как минимум одна “.”;\n",
    "• после последней точки должно быть не менее 2-х и не более 4-х символов, причем наличие цифр не допускается;\n",
    "• между последней точкой и символом “@” должно быть не менее 2-х символов\n",
    "• слева от “@” должно быть не менее четырех символов"
   ]
  },
  {
   "cell_type": "code",
   "execution_count": 117,
   "metadata": {},
   "outputs": [
    {
     "name": "stdout",
     "output_type": "stream",
     "text": [
      "TEST --- Valid mail\n",
      "mail@domain.com --> OK\n",
      "mail@domain.ru --> OK\n",
      "mail@domain.abcd --> OK\n",
      "mail@do.ru --> OK\n",
      "##############\n",
      "TEST --- Fail mail\n",
      "maildomain.com --> OK\n",
      "mail#@domain.com --> OK\n",
      "мыло@domain.com --> OK\n",
      "mail@domaincom --> OK\n",
      "mail@domain.c --> OK\n",
      "mail@domain.comco --> OK\n",
      "mail@d.com --> OK\n",
      "m@domain.com --> OK\n"
     ]
    }
   ],
   "source": [
    "import re\n",
    "#\n",
    "# mail01 = 'mail@domain.com'\n",
    "test_true = ['mail@domain.com','mail@domain.ru','mail@domain.abcd','mail@do.ru']\n",
    "test_false = ['maildomain.com', 'mail#@domain.com','мыло@domain.com','mail@domaincom','mail@domain.c','mail@domain.comco',\n",
    "             'mail@d.com','m@domain.com']\n",
    "\n",
    "regex = r'(^([a-zA-Z._0-9-]{4,})+@([a-zA-Z0-9-]{2,})+\\.([a-zA-Z]{2,4})$)'\n",
    "\n",
    "print('TEST --- Valid mail')\n",
    "for el in test_true:\n",
    "    if re.match(regex, el):\n",
    "        print(el,'--> OK')\n",
    "    else:\n",
    "        print(el,'--> FAIL')\n",
    "print('##############')\n",
    "print('TEST --- Fail mail')    \n",
    "for el in test_false:\n",
    "    if re.match(regex,el):\n",
    "        print(el,'--> FAIL')\n",
    "    else:\n",
    "        print(el,'--> OK')        \n",
    "\n"
   ]
  },
  {
   "cell_type": "raw",
   "metadata": {},
   "source": [
    "**Задание 3. **\n",
    "Напишите функцию, которая будет удалять все последовательные повторы слов из заданной строки при помощи регулярных выражений."
   ]
  },
  {
   "cell_type": "code",
   "execution_count": 167,
   "metadata": {},
   "outputs": [
    {
     "name": "stdout",
     "output_type": "stream",
     "text": [
      "Привет мой друг и верный помощник Санчо Панса ку\n"
     ]
    }
   ],
   "source": [
    "import re\n",
    "def delete_double_word(text):\n",
    "    regex = r'(\\w+)(\\s+\\1)+'\n",
    "    return re.sub(regex, r'\\1',  test_str, flags=re.I)\n",
    "\n",
    "test_str = 'Привет привет мой друг  друг друг и верный помощник Санчо Панса ку ку'\n",
    "print(delete_double_word(test_str))"
   ]
  },
  {
   "cell_type": "raw",
   "metadata": {},
   "source": [
    "Задание 4.\n",
    "Напишите функцию, которая будет проверять номер сотового телефона на валидность, если он валиден, то переводить его в формат:\n",
    "+7(xxx)-xxx-xx-xx\n",
    "Постарайтесь предусмотреть как можно больше адекватных форматов изначального ввода номера. Примеры валидных форматов:\n",
    "• +7 955 555-55-55;\n",
    "• 9555555555;\n",
    "• 8(955)555-55-55;\n",
    "• +7 955 555 55 55;\n",
    "• 7(955) 555-55-55;\n",
    "• +7 955+555+55+55."
   ]
  },
  {
   "cell_type": "code",
   "execution_count": 221,
   "metadata": {},
   "outputs": [
    {
     "name": "stdout",
     "output_type": "stream",
     "text": [
      "+7(955)-555-55-55\n",
      "+7(955)-555-55-55\n",
      "+7(955)-555-55-55\n",
      "+7(955)-555-55-55\n",
      "+7(955)-555-55-55\n",
      "+7(955)-555-55-55\n",
      "False\n",
      "False\n",
      "False\n"
     ]
    }
   ],
   "source": [
    "import re\n",
    "def valid_mobile_phone_ru(number):\n",
    "    regex = r'^((8|\\+7|7)[ ]?)?(\\()?(\\d{3})(\\)?([\\- \\+])?)(\\d{3})([-+ ]?)(\\d{2})([-+ ]?)(\\d{2})$'\n",
    "    pattern = re.match(regex, number)\n",
    "    if pattern:\n",
    "        return (f'+7({pattern.group(4)})-{pattern.group(7)}-{pattern.group(9)}-{pattern.group(11)}')\n",
    "    else:\n",
    "        return False\n",
    "\n",
    "print(valid_mobile_phone_ru('+7 955 555-55-55'))\n",
    "print(valid_mobile_phone_ru('9555555555'))\n",
    "print(valid_mobile_phone_ru('8(955)555-55-55'))\n",
    "print(valid_mobile_phone_ru('+7 955 555-55-55'))\n",
    "print(valid_mobile_phone_ru('7(955) 555-55-55'))\n",
    "print(valid_mobile_phone_ru('+7 955+555+55+55'))\n",
    "\n",
    "print(valid_mobile_phone_ru('+7 955'))\n",
    "print(valid_mobile_phone_ru('+7 955ffffffffffffff'))\n",
    "print(valid_mobile_phone_ru('+7 95555555555555'))\n",
    "\n",
    "\n",
    "\n",
    "\n"
   ]
  }
 ],
 "metadata": {
  "kernelspec": {
   "display_name": "Python 3",
   "language": "python",
   "name": "python3"
  },
  "language_info": {
   "codemirror_mode": {
    "name": "ipython",
    "version": 3
   },
   "file_extension": ".py",
   "mimetype": "text/x-python",
   "name": "python",
   "nbconvert_exporter": "python",
   "pygments_lexer": "ipython3",
   "version": "3.7.6"
  }
 },
 "nbformat": 4,
 "nbformat_minor": 4
}
