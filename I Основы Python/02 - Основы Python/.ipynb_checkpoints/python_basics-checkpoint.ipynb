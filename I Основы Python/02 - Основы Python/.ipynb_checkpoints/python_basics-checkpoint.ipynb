{
 "cells": [
  {
   "cell_type": "markdown",
   "metadata": {},
   "source": [
    "**Задание 1**. Даны 2 строки: *long_phrase* и *short_phrase*. \n",
    "Напишите код, который проверяет действительно ли длинная фраза *long_phrase* длиннее короткой *short_phrase*. И выводит *True* или *False* в зависимости от результата сравнения."
   ]
  },
  {
   "cell_type": "code",
   "execution_count": 25,
   "metadata": {},
   "outputs": [],
   "source": [
    "long_phrase = 'Насколько проще было бы писать программы, если бы не заказчики'\n",
    "short_phrase = '640Кб должно хватить для любых задач. Билл Гейтс (по легенде)'"
   ]
  },
  {
   "cell_type": "code",
   "execution_count": 27,
   "metadata": {},
   "outputs": [
    {
     "data": {
      "text/plain": [
       "True"
      ]
     },
     "execution_count": 27,
     "metadata": {},
     "output_type": "execute_result"
    }
   ],
   "source": [
    "len(long_phrase) > len(short_phrase)"
   ]
  },
  {
   "cell_type": "markdown",
   "metadata": {},
   "source": [
    "**Задание 2**. Дано значение объема файла в байтах (*в мегабайте 2^20 байт*). Напишите перевод этого значения в мегабайты в формате: \"*Объем файла равен 213.68Mb*\"."
   ]
  },
  {
   "cell_type": "code",
   "execution_count": 46,
   "metadata": {},
   "outputs": [
    {
     "name": "stdout",
     "output_type": "stream",
     "text": [
      "Объем файла равен 213.68Mb\n"
     ]
    }
   ],
   "source": [
    "byte = 224059800\n",
    "mbyte = byte / (1024 * 1024)\n",
    "print('Объем файла равен {:.2f}Mb'.format(mbyte))"
   ]
  },
  {
   "cell_type": "markdown",
   "metadata": {},
   "source": [
    "**Задание 3**. Разработать приложение для определения знака зодиака по дате рождения. Пример:\n",
    "\n",
    "Введите месяц: март\n",
    "\n",
    "Введите число: 6\n",
    "\n",
    "Вывод:\n",
    "Рыбы"
   ]
  },
  {
   "cell_type": "code",
   "execution_count": 18,
   "metadata": {},
   "outputs": [
    {
     "name": "stdout",
     "output_type": "stream",
     "text": [
      "Введите месяц: январь\n",
      "Введите число: 19\n",
      "Вывод: Козерог\n"
     ]
    }
   ],
   "source": [
    "print('Введите месяц:', end=' ')\n",
    "month = input().upper()\n",
    "\n",
    "print('Введите число:', end=' ')\n",
    "day = int(input())\n",
    "\n",
    "zodiak = 'не определен'\n",
    "\n",
    "if month == 'ЯНВАРЬ':\n",
    "    if (day >= 1) and (day <= 20): \n",
    "        zodiak = 'Козерог'\n",
    "    elif day <= 31:\n",
    "        zodiak = 'Водолей'\n",
    "    else:\n",
    "        zodiak = 'ошибка в числе'\n",
    "\n",
    "elif month == 'ФЕВРАЛЬ':\n",
    "    if (day >= 1) and (day <= 18): \n",
    "        zodiak = 'Водолей'\n",
    "    elif day <= 29:\n",
    "        zodiak = 'Рыбы'\n",
    "    else:\n",
    "        zodiak = 'ошибка в числе'\n",
    "\n",
    "elif month == 'МАРТ':\n",
    "    if (day >= 1) and (day <= 20): \n",
    "        zodiak = 'Рыбы'\n",
    "    elif day <= 31:\n",
    "        zodiak = 'Овен'\n",
    "    else:\n",
    "        zodiak = 'ошибка в числе'\n",
    "        \n",
    "elif month == 'АПРЕЛЬ':\n",
    "    if (day >= 1) and (day <= 20): \n",
    "        zodiak = 'Овен'\n",
    "    elif day <= 31:\n",
    "        zodiak = 'Телец'\n",
    "    else:\n",
    "        zodiak = 'ошибка в числе'\n",
    "        \n",
    "elif month == 'МАЙ':\n",
    "    if (day >= 1) and (day <= 20): \n",
    "        zodiak = 'Телец'\n",
    "    elif day <= 31:\n",
    "        zodiak = 'Близнецы'\n",
    "    else:\n",
    "        zodiak = 'ошибка в числе'\n",
    "        \n",
    "elif month == 'ИЮНЬ':\n",
    "    if (day >= 1) and (day <= 21): \n",
    "        zodiak = 'Близнецы'\n",
    "    elif day <= 31:\n",
    "        zodiak = 'Рак'\n",
    "    else:\n",
    "        zodiak = 'ошибка в числе'\n",
    "        \n",
    "elif month == 'ИЮЛЬ':\n",
    "    if (day >= 1) and (day <= 22): \n",
    "        zodiak = 'Рак'\n",
    "    elif day <= 31:\n",
    "        zodiak = 'Лев'\n",
    "    else:\n",
    "        zodiak = 'ошибка в числе'\n",
    "        \n",
    "elif month == 'АВГУСТ':\n",
    "    if (day >= 1) and (day <= 22): \n",
    "        zodiak = 'Лев'\n",
    "    elif day <= 31:\n",
    "        zodiak = 'Дева'\n",
    "    else:\n",
    "        zodiak = 'ошибка в числе'\n",
    "        \n",
    "elif month == 'СЕНТЯБРЬ':\n",
    "    if (day >= 1) and (day <= 23): \n",
    "        zodiak = 'Дева'\n",
    "    elif day <= 31:\n",
    "        zodiak = 'Весы'\n",
    "    else:\n",
    "        zodiak = 'ошибка в числе'\n",
    "\n",
    "elif month == 'ОКТЯБРЬ':\n",
    "    if (day >= 1) and (day <= 23): \n",
    "        zodiak = 'Весы'\n",
    "    elif day <= 31:\n",
    "        zodiak = 'Скорпион'\n",
    "    else:\n",
    "        zodiak = 'ошибка в числе'        \n",
    "        \n",
    "elif month == 'НОЯБРЬ':\n",
    "    if (day >= 1) and (day <= 22): \n",
    "        zodiak = 'Скорпион'\n",
    "    elif day <= 31:\n",
    "        zodiak = 'Стрелец'\n",
    "    else:\n",
    "        zodiak = 'ошибка в числе'\n",
    "        \n",
    "elif month == 'ДЕКАБРЬ':\n",
    "    if (day >= 1) and (day <= 21): \n",
    "        zodiak = 'Стрелец'\n",
    "    elif day <= 31:\n",
    "        zodiak = 'Козерог'\n",
    "    else:\n",
    "        zodiak = 'ошибка в числе'\n",
    "        \n",
    "else:\n",
    "    zodiak = 'человек-паук'    \n",
    "        \n",
    "print('Вывод:', zodiak)"
   ]
  },
  {
   "cell_type": "markdown",
   "metadata": {},
   "source": [
    "**Задание 4**. Нужно разработать приложение для финансового планирования.\n",
    "Приложение учитывает сколько уходит на ипотеку, \"на жизнь\" и сколько нужно отложить на пенсию.\n",
    "Пользователь вводит:\n",
    "- заработанную плату в месяц.\n",
    "- сколько процентов от ЗП уходит на ипотеку.\n",
    "- сколько процентов от ЗП уходит \"на жизнь\".\n",
    "- сколько раз приходит премия в год.\n",
    "\n",
    "Остальная часть заработанной платы откладывается на пенсию.\n",
    "\n",
    "Также пользователю приходит премия в размере зарплаты, от которой половина уходит на отпуск, а вторая половина откладывается.\n",
    "\n",
    "Программа должна учитывать сколько премий было в год.\n",
    "\n",
    "Нужно вывести сколько денег тратит пользователь на ипотеку и сколько он накопит за год.\n",
    "\n",
    "Пример:\n",
    "\n",
    "Введите заработанную плату в месяц: 100000\n",
    "\n",
    "Введите сколько процентов уходит на ипотеку: 30\n",
    "\n",
    "Введите сколько процентов уходит на жизнь: 50\n",
    "\n",
    "Введите количество премий за год: 2\n",
    "\n",
    "Вывод:\n",
    "На ипотеку было потрачено: 360000 рублей\n",
    "Было накоплено: 340000 рублей"
   ]
  },
  {
   "cell_type": "code",
   "execution_count": 22,
   "metadata": {},
   "outputs": [
    {
     "name": "stdout",
     "output_type": "stream",
     "text": [
      "Введите заработанную плату в месяц: 100000\n",
      "Введите сколько процентов уходит на ипотеку: 30\n",
      "Введите сколько процентов уходит на жизнь: 50\n",
      "Введите количество премий за год: 2\n",
      "Вывод:\n",
      "На ипотеку было потрачено: 360000 рублей\n",
      "Было накоплено:: 340000 рублей\n"
     ]
    }
   ],
   "source": [
    "print('Введите заработанную плату в месяц:', end=' ')\n",
    "salary = int(input())\n",
    "\n",
    "#головая зарплата\n",
    "salary_year = salary * 12\n",
    "\n",
    "print('Введите сколько процентов уходит на ипотеку:', end=' ')\n",
    "interest_mortgage = int(input())\n",
    "\n",
    "if interest_mortgage > 100:\n",
    "    interest_mortgage = 100\n",
    "\n",
    "#сумма на ипотеку    \n",
    "sum_mortgage = salary_year * interest_mortgage / 100\n",
    "\n",
    "print('Введите сколько процентов уходит на жизнь:', end=' ')\n",
    "interest_life = int(input())\n",
    "\n",
    "if interest_life > (100 - interest_mortgage):\n",
    "    interest_life = 100 - interest_mortgage\n",
    "\n",
    "#сумма на жизнь    \n",
    "sum_life = salary_year * interest_life / 100\n",
    "\n",
    "print('Введите количество премий за год:', end=' ')\n",
    "count_premium = int(input())\n",
    "\n",
    "if count_premium > 12:\n",
    "    count_premium = 12\n",
    "    \n",
    "#сумма премий\n",
    "sum_premium = count_premium * salary \n",
    "\n",
    "#затраты на отпуск\n",
    "sum_holyday = sum_premium * 0.5\n",
    "\n",
    "#сумма накоплений = годовая зарплата + сумма премий - сумма за ипотеку - сумма на жизнь - затраты на отпуск\n",
    "cash_savings = salary_year + sum_premium - sum_mortgage - sum_life - sum_holyday\n",
    "\n",
    "print('Вывод:')\n",
    "\n",
    "print('На ипотеку было потрачено:', int(sum_mortgage), 'рублей')\n",
    "print('Было накоплено:', int(cash_savings), 'рублей')\n"
   ]
  },
  {
   "cell_type": "code",
   "execution_count": null,
   "metadata": {},
   "outputs": [],
   "source": []
  }
 ],
 "metadata": {
  "kernelspec": {
   "display_name": "Python 3",
   "language": "python",
   "name": "python3"
  },
  "language_info": {
   "codemirror_mode": {
    "name": "ipython",
    "version": 3
   },
   "file_extension": ".py",
   "mimetype": "text/x-python",
   "name": "python",
   "nbconvert_exporter": "python",
   "pygments_lexer": "ipython3",
   "version": "3.7.6"
  }
 },
 "nbformat": 4,
 "nbformat_minor": 2
}
